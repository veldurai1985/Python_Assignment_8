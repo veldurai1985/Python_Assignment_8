{
 "cells": [
  {
   "cell_type": "markdown",
   "metadata": {},
   "source": [
    "# Credit Risk Ensemble Techniques"
   ]
  },
  {
   "cell_type": "code",
   "execution_count": 1,
   "metadata": {},
   "outputs": [],
   "source": [
    "import warnings\n",
    "warnings.filterwarnings('ignore')"
   ]
  },
  {
   "cell_type": "code",
   "execution_count": 2,
   "metadata": {},
   "outputs": [],
   "source": [
    "import numpy as np\n",
    "import pandas as pd\n",
    "from pathlib import Path\n",
    "from collections import Counter"
   ]
  },
  {
   "cell_type": "code",
   "execution_count": 3,
   "metadata": {},
   "outputs": [],
   "source": [
    "from sklearn.preprocessing import LabelEncoder\n",
    "from sklearn.metrics import balanced_accuracy_score\n",
    "from sklearn.metrics import confusion_matrix\n",
    "from imblearn.metrics import classification_report_imbalanced"
   ]
  },
  {
   "cell_type": "markdown",
   "metadata": {},
   "source": [
    "# Read the CSV and Perform Basic Data Cleaning"
   ]
  },
  {
   "cell_type": "code",
   "execution_count": 4,
   "metadata": {},
   "outputs": [
    {
     "output_type": "execute_result",
     "data": {
      "text/plain": "   loan_size  interest_rate homeowner  borrower_income  debt_to_income  \\\n0    10700.0          7.672       own            52800        0.431818   \n1     8400.0          6.692       own            43600        0.311927   \n2     9000.0          6.963      rent            46100        0.349241   \n3    10700.0          7.664       own            52700        0.430740   \n4    10800.0          7.698  mortgage            53000        0.433962   \n\n   num_of_accounts  derogatory_marks  total_debt loan_status  \n0                5                 1       22800    low_risk  \n1                3                 0       13600    low_risk  \n2                3                 0       16100    low_risk  \n3                5                 1       22700    low_risk  \n4                5                 1       23000    low_risk  ",
      "text/html": "<div>\n<style scoped>\n    .dataframe tbody tr th:only-of-type {\n        vertical-align: middle;\n    }\n\n    .dataframe tbody tr th {\n        vertical-align: top;\n    }\n\n    .dataframe thead th {\n        text-align: right;\n    }\n</style>\n<table border=\"1\" class=\"dataframe\">\n  <thead>\n    <tr style=\"text-align: right;\">\n      <th></th>\n      <th>loan_size</th>\n      <th>interest_rate</th>\n      <th>homeowner</th>\n      <th>borrower_income</th>\n      <th>debt_to_income</th>\n      <th>num_of_accounts</th>\n      <th>derogatory_marks</th>\n      <th>total_debt</th>\n      <th>loan_status</th>\n    </tr>\n  </thead>\n  <tbody>\n    <tr>\n      <th>0</th>\n      <td>10700.0</td>\n      <td>7.672</td>\n      <td>own</td>\n      <td>52800</td>\n      <td>0.431818</td>\n      <td>5</td>\n      <td>1</td>\n      <td>22800</td>\n      <td>low_risk</td>\n    </tr>\n    <tr>\n      <th>1</th>\n      <td>8400.0</td>\n      <td>6.692</td>\n      <td>own</td>\n      <td>43600</td>\n      <td>0.311927</td>\n      <td>3</td>\n      <td>0</td>\n      <td>13600</td>\n      <td>low_risk</td>\n    </tr>\n    <tr>\n      <th>2</th>\n      <td>9000.0</td>\n      <td>6.963</td>\n      <td>rent</td>\n      <td>46100</td>\n      <td>0.349241</td>\n      <td>3</td>\n      <td>0</td>\n      <td>16100</td>\n      <td>low_risk</td>\n    </tr>\n    <tr>\n      <th>3</th>\n      <td>10700.0</td>\n      <td>7.664</td>\n      <td>own</td>\n      <td>52700</td>\n      <td>0.430740</td>\n      <td>5</td>\n      <td>1</td>\n      <td>22700</td>\n      <td>low_risk</td>\n    </tr>\n    <tr>\n      <th>4</th>\n      <td>10800.0</td>\n      <td>7.698</td>\n      <td>mortgage</td>\n      <td>53000</td>\n      <td>0.433962</td>\n      <td>5</td>\n      <td>1</td>\n      <td>23000</td>\n      <td>low_risk</td>\n    </tr>\n  </tbody>\n</table>\n</div>"
     },
     "metadata": {},
     "execution_count": 4
    }
   ],
   "source": [
    "# Load the data\n",
    "file_path = Path('Resources/lending_data.csv')\n",
    "df = pd.read_csv(file_path)\n",
    "\n",
    "df.head()"
   ]
  },
  {
   "cell_type": "code",
   "execution_count": 5,
   "metadata": {},
   "outputs": [
    {
     "output_type": "execute_result",
     "data": {
      "text/plain": "   loan_size  interest_rate  borrower_income  debt_to_income  num_of_accounts  \\\n0    10700.0          7.672            52800        0.431818                5   \n1     8400.0          6.692            43600        0.311927                3   \n2     9000.0          6.963            46100        0.349241                3   \n3    10700.0          7.664            52700        0.430740                5   \n4    10800.0          7.698            53000        0.433962                5   \n\n   derogatory_marks  total_debt loan_status  homeowner_mortgage  \\\n0                 1       22800    low_risk                   0   \n1                 0       13600    low_risk                   0   \n2                 0       16100    low_risk                   0   \n3                 1       22700    low_risk                   0   \n4                 1       23000    low_risk                   1   \n\n   homeowner_own  homeowner_rent  \n0              1               0  \n1              1               0  \n2              0               1  \n3              1               0  \n4              0               0  ",
      "text/html": "<div>\n<style scoped>\n    .dataframe tbody tr th:only-of-type {\n        vertical-align: middle;\n    }\n\n    .dataframe tbody tr th {\n        vertical-align: top;\n    }\n\n    .dataframe thead th {\n        text-align: right;\n    }\n</style>\n<table border=\"1\" class=\"dataframe\">\n  <thead>\n    <tr style=\"text-align: right;\">\n      <th></th>\n      <th>loan_size</th>\n      <th>interest_rate</th>\n      <th>borrower_income</th>\n      <th>debt_to_income</th>\n      <th>num_of_accounts</th>\n      <th>derogatory_marks</th>\n      <th>total_debt</th>\n      <th>loan_status</th>\n      <th>homeowner_mortgage</th>\n      <th>homeowner_own</th>\n      <th>homeowner_rent</th>\n    </tr>\n  </thead>\n  <tbody>\n    <tr>\n      <th>0</th>\n      <td>10700.0</td>\n      <td>7.672</td>\n      <td>52800</td>\n      <td>0.431818</td>\n      <td>5</td>\n      <td>1</td>\n      <td>22800</td>\n      <td>low_risk</td>\n      <td>0</td>\n      <td>1</td>\n      <td>0</td>\n    </tr>\n    <tr>\n      <th>1</th>\n      <td>8400.0</td>\n      <td>6.692</td>\n      <td>43600</td>\n      <td>0.311927</td>\n      <td>3</td>\n      <td>0</td>\n      <td>13600</td>\n      <td>low_risk</td>\n      <td>0</td>\n      <td>1</td>\n      <td>0</td>\n    </tr>\n    <tr>\n      <th>2</th>\n      <td>9000.0</td>\n      <td>6.963</td>\n      <td>46100</td>\n      <td>0.349241</td>\n      <td>3</td>\n      <td>0</td>\n      <td>16100</td>\n      <td>low_risk</td>\n      <td>0</td>\n      <td>0</td>\n      <td>1</td>\n    </tr>\n    <tr>\n      <th>3</th>\n      <td>10700.0</td>\n      <td>7.664</td>\n      <td>52700</td>\n      <td>0.430740</td>\n      <td>5</td>\n      <td>1</td>\n      <td>22700</td>\n      <td>low_risk</td>\n      <td>0</td>\n      <td>1</td>\n      <td>0</td>\n    </tr>\n    <tr>\n      <th>4</th>\n      <td>10800.0</td>\n      <td>7.698</td>\n      <td>53000</td>\n      <td>0.433962</td>\n      <td>5</td>\n      <td>1</td>\n      <td>23000</td>\n      <td>low_risk</td>\n      <td>1</td>\n      <td>0</td>\n      <td>0</td>\n    </tr>\n  </tbody>\n</table>\n</div>"
     },
     "metadata": {},
     "execution_count": 5
    }
   ],
   "source": [
    "# Fitting and encoding the columns with the LabelEncoder\n",
    "df = pd.get_dummies(df, columns=[\"homeowner\"])\n",
    "\n",
    "df.head()"
   ]
  },
  {
   "cell_type": "markdown",
   "metadata": {},
   "source": [
    "# Split the Data into Training and Testing"
   ]
  },
  {
   "cell_type": "code",
   "execution_count": 6,
   "metadata": {},
   "outputs": [],
   "source": [
    "# Create our target\n",
    "y = df[\"loan_status\"]\n",
    "\n",
    "# Create our features\n",
    "X = df.drop(columns=\"loan_status\")"
   ]
  },
  {
   "cell_type": "code",
   "execution_count": 7,
   "metadata": {},
   "outputs": [
    {
     "output_type": "execute_result",
     "data": {
      "text/plain": "          loan_size  interest_rate  borrower_income  debt_to_income  \\\ncount  77536.000000   77536.000000     77536.000000    77536.000000   \nmean    9805.562577       7.292333     49221.949804        0.377318   \nstd     2093.223153       0.889495      8371.635077        0.081519   \nmin     5000.000000       5.250000     30000.000000        0.000000   \n25%     8700.000000       6.825000     44800.000000        0.330357   \n50%     9500.000000       7.172000     48100.000000        0.376299   \n75%    10400.000000       7.528000     51400.000000        0.416342   \nmax    23800.000000      13.235000    105200.000000        0.714829   \n\n       num_of_accounts  derogatory_marks    total_debt  homeowner_mortgage  \\\ncount     77536.000000      77536.000000  77536.000000        77536.000000   \nmean          3.826610          0.392308  19221.949804            0.497472   \nstd           1.904426          0.582086   8371.635077            0.499997   \nmin           0.000000          0.000000      0.000000            0.000000   \n25%           3.000000          0.000000  14800.000000            0.000000   \n50%           4.000000          0.000000  18100.000000            0.000000   \n75%           4.000000          1.000000  21400.000000            1.000000   \nmax          16.000000          3.000000  75200.000000            1.000000   \n\n       homeowner_own  homeowner_rent  \ncount   77536.000000    77536.000000  \nmean        0.398911        0.103616  \nstd         0.489678        0.304764  \nmin         0.000000        0.000000  \n25%         0.000000        0.000000  \n50%         0.000000        0.000000  \n75%         1.000000        0.000000  \nmax         1.000000        1.000000  ",
      "text/html": "<div>\n<style scoped>\n    .dataframe tbody tr th:only-of-type {\n        vertical-align: middle;\n    }\n\n    .dataframe tbody tr th {\n        vertical-align: top;\n    }\n\n    .dataframe thead th {\n        text-align: right;\n    }\n</style>\n<table border=\"1\" class=\"dataframe\">\n  <thead>\n    <tr style=\"text-align: right;\">\n      <th></th>\n      <th>loan_size</th>\n      <th>interest_rate</th>\n      <th>borrower_income</th>\n      <th>debt_to_income</th>\n      <th>num_of_accounts</th>\n      <th>derogatory_marks</th>\n      <th>total_debt</th>\n      <th>homeowner_mortgage</th>\n      <th>homeowner_own</th>\n      <th>homeowner_rent</th>\n    </tr>\n  </thead>\n  <tbody>\n    <tr>\n      <th>count</th>\n      <td>77536.000000</td>\n      <td>77536.000000</td>\n      <td>77536.000000</td>\n      <td>77536.000000</td>\n      <td>77536.000000</td>\n      <td>77536.000000</td>\n      <td>77536.000000</td>\n      <td>77536.000000</td>\n      <td>77536.000000</td>\n      <td>77536.000000</td>\n    </tr>\n    <tr>\n      <th>mean</th>\n      <td>9805.562577</td>\n      <td>7.292333</td>\n      <td>49221.949804</td>\n      <td>0.377318</td>\n      <td>3.826610</td>\n      <td>0.392308</td>\n      <td>19221.949804</td>\n      <td>0.497472</td>\n      <td>0.398911</td>\n      <td>0.103616</td>\n    </tr>\n    <tr>\n      <th>std</th>\n      <td>2093.223153</td>\n      <td>0.889495</td>\n      <td>8371.635077</td>\n      <td>0.081519</td>\n      <td>1.904426</td>\n      <td>0.582086</td>\n      <td>8371.635077</td>\n      <td>0.499997</td>\n      <td>0.489678</td>\n      <td>0.304764</td>\n    </tr>\n    <tr>\n      <th>min</th>\n      <td>5000.000000</td>\n      <td>5.250000</td>\n      <td>30000.000000</td>\n      <td>0.000000</td>\n      <td>0.000000</td>\n      <td>0.000000</td>\n      <td>0.000000</td>\n      <td>0.000000</td>\n      <td>0.000000</td>\n      <td>0.000000</td>\n    </tr>\n    <tr>\n      <th>25%</th>\n      <td>8700.000000</td>\n      <td>6.825000</td>\n      <td>44800.000000</td>\n      <td>0.330357</td>\n      <td>3.000000</td>\n      <td>0.000000</td>\n      <td>14800.000000</td>\n      <td>0.000000</td>\n      <td>0.000000</td>\n      <td>0.000000</td>\n    </tr>\n    <tr>\n      <th>50%</th>\n      <td>9500.000000</td>\n      <td>7.172000</td>\n      <td>48100.000000</td>\n      <td>0.376299</td>\n      <td>4.000000</td>\n      <td>0.000000</td>\n      <td>18100.000000</td>\n      <td>0.000000</td>\n      <td>0.000000</td>\n      <td>0.000000</td>\n    </tr>\n    <tr>\n      <th>75%</th>\n      <td>10400.000000</td>\n      <td>7.528000</td>\n      <td>51400.000000</td>\n      <td>0.416342</td>\n      <td>4.000000</td>\n      <td>1.000000</td>\n      <td>21400.000000</td>\n      <td>1.000000</td>\n      <td>1.000000</td>\n      <td>0.000000</td>\n    </tr>\n    <tr>\n      <th>max</th>\n      <td>23800.000000</td>\n      <td>13.235000</td>\n      <td>105200.000000</td>\n      <td>0.714829</td>\n      <td>16.000000</td>\n      <td>3.000000</td>\n      <td>75200.000000</td>\n      <td>1.000000</td>\n      <td>1.000000</td>\n      <td>1.000000</td>\n    </tr>\n  </tbody>\n</table>\n</div>"
     },
     "metadata": {},
     "execution_count": 7
    }
   ],
   "source": [
    "# Describe the X columns\n",
    "X.describe()"
   ]
  },
  {
   "cell_type": "code",
   "execution_count": 8,
   "metadata": {},
   "outputs": [
    {
     "output_type": "execute_result",
     "data": {
      "text/plain": "low_risk     75036\nhigh_risk     2500\nName: loan_status, dtype: int64"
     },
     "metadata": {},
     "execution_count": 8
    }
   ],
   "source": [
    "# Check the balance of our target values\n",
    "y.value_counts()"
   ]
  },
  {
   "cell_type": "code",
   "execution_count": 9,
   "metadata": {},
   "outputs": [
    {
     "output_type": "execute_result",
     "data": {
      "text/plain": "(58152, 10)"
     },
     "metadata": {},
     "execution_count": 9
    }
   ],
   "source": [
    "# Split the X and y into X_train, X_test, y_train, y_test\n",
    "from sklearn.model_selection import train_test_split\n",
    "\n",
    "X_train, X_test, y_train, y_test = train_test_split(X, \n",
    "                                                    y, \n",
    "                                                    random_state=1)\n",
    "X_train.shape"
   ]
  },
  {
   "cell_type": "markdown",
   "metadata": {},
   "source": [
    "# Ensemble Learners\n",
    "\n",
    "In this section, you will compare two ensemble algorithms to determine which algorithm results in the best performance. You will train a Balanced Random Forest Classifier and an Easy Ensemble AdaBoost classifier . For each algorithm, be sure to complete the folliowing steps:\n",
    "\n",
    "1. Train the model using the training data. \n",
    "2. Calculate the balanced accuracy score from sklearn.metrics.\n",
    "3. Print the confusion matrix from sklearn.metrics.\n",
    "4. Generate a classication report using the `imbalanced_classification_report` from imbalanced-learn.\n",
    "5. For the Balanced Random Forest Classifier onely, print the feature importance sorted in descending order (most important feature to least important) along with the feature score\n",
    "\n",
    "Note: Use a random state of 1 for each algorithm to ensure consistency between tests"
   ]
  },
  {
   "cell_type": "markdown",
   "metadata": {},
   "source": [
    "### Balanced Random Forest Classifier"
   ]
  },
  {
   "cell_type": "code",
   "execution_count": 10,
   "metadata": {},
   "outputs": [
    {
     "output_type": "execute_result",
     "data": {
      "text/plain": "BalancedRandomForestClassifier(random_state=1)"
     },
     "metadata": {},
     "execution_count": 10
    }
   ],
   "source": [
    "# Resample the training data with the RandomOversampler\n",
    "from imblearn.ensemble import BalancedRandomForestClassifier\n",
    "model = BalancedRandomForestClassifier(random_state=1)\n",
    "model.fit(X_train, y_train)"
   ]
  },
  {
   "cell_type": "code",
   "execution_count": 11,
   "metadata": {},
   "outputs": [
    {
     "output_type": "execute_result",
     "data": {
      "text/plain": "0.9927988250218349"
     },
     "metadata": {},
     "execution_count": 11
    }
   ],
   "source": [
    "# Calculated the balanced accuracy score\n",
    "y_pred = model.predict(X_test)\n",
    "balanced_accuracy_score(y_test, y_pred)"
   ]
  },
  {
   "cell_type": "code",
   "execution_count": 12,
   "metadata": {},
   "outputs": [
    {
     "output_type": "execute_result",
     "data": {
      "text/plain": "array([[  615,     4],\n       [  149, 18616]], dtype=int64)"
     },
     "metadata": {},
     "execution_count": 12
    }
   ],
   "source": [
    "# Display the confusion matrix\n",
    "confusion_matrix(y_test, y_pred)"
   ]
  },
  {
   "cell_type": "code",
   "execution_count": 13,
   "metadata": {
    "tags": []
   },
   "outputs": [
    {
     "output_type": "stream",
     "name": "stdout",
     "text": "pre       rec       spe        f1       geo       iba       sup\n\n  high_risk       0.80      0.99      0.99      0.89      0.99      0.99       619\n   low_risk       1.00      0.99      0.99      1.00      0.99      0.99     18765\n\navg / total       0.99      0.99      0.99      0.99      0.99      0.99     19384\n\n"
    }
   ],
   "source": [
    "# Print the imbalanced classification report\n",
    "print(classification_report_imbalanced(y_test, y_pred))"
   ]
  },
  {
   "cell_type": "code",
   "execution_count": 14,
   "metadata": {},
   "outputs": [
    {
     "output_type": "execute_result",
     "data": {
      "text/plain": "[(0.21788480603139448, 'borrower_income'),\n (0.19595880072166166, 'interest_rate'),\n (0.1770964986362893, 'debt_to_income'),\n (0.13872579131432708, 'loan_size'),\n (0.12149751059258558, 'total_debt'),\n (0.11796397199368643, 'num_of_accounts'),\n (0.028820980671490287, 'derogatory_marks'),\n (0.0008975938107589897, 'homeowner_own'),\n (0.0008326989735687767, 'homeowner_mortgage'),\n (0.00032134725423733495, 'homeowner_rent')]"
     },
     "metadata": {},
     "execution_count": 14
    }
   ],
   "source": [
    "# List the features sorted in descending order by feature importance\n",
    "sorted(zip(model.feature_importances_, X.columns), reverse=True)"
   ]
  },
  {
   "cell_type": "code",
   "execution_count": 13,
   "metadata": {},
   "outputs": [
    {
     "name": "stdout",
     "output_type": "stream",
     "text": [
      "loan_size: (0.21788480603139448)\n",
      "interest_rate: (0.19595880072166166)\n",
      "borrower_income: (0.1770964986362893)\n",
      "debt_to_income: (0.13872579131432708)\n",
      "num_of_accounts: (0.12149751059258558)\n",
      "derogatory_marks: (0.11796397199368643)\n",
      "total_debt: (0.028820980671490287)\n",
      "homeowner_mortgage: (0.0008975938107589897)\n",
      "homeowner_own: (0.0008326989735687767)\n",
      "homeowner_rent: (0.00032134725423733495)\n"
     ]
    }
   ],
   "source": [
    "\n",
    "# YOUR CODE HERE"
   ]
  },
  {
   "cell_type": "markdown",
   "metadata": {},
   "source": [
    "### Easy Ensemble AdaBoost Classifier"
   ]
  },
  {
   "cell_type": "code",
   "execution_count": 15,
   "metadata": {},
   "outputs": [
    {
     "output_type": "execute_result",
     "data": {
      "text/plain": "EasyEnsembleClassifier(n_estimators=100, random_state=1)"
     },
     "metadata": {},
     "execution_count": 15
    }
   ],
   "source": [
    "# Train the Classifier\n",
    "from imblearn.ensemble import EasyEnsembleClassifier\n",
    "model = EasyEnsembleClassifier(n_estimators=100,random_state=1)\n",
    "model.fit(X_train, y_train)"
   ]
  },
  {
   "cell_type": "code",
   "execution_count": 16,
   "metadata": {},
   "outputs": [
    {
     "output_type": "execute_result",
     "data": {
      "text/plain": "0.9931452145768576"
     },
     "metadata": {},
     "execution_count": 16
    }
   ],
   "source": [
    "# Calculated the balanced accuracy score\n",
    "y_pred = model.predict(X_test)\n",
    "balanced_accuracy_score(y_test, y_pred)"
   ]
  },
  {
   "cell_type": "code",
   "execution_count": 17,
   "metadata": {},
   "outputs": [
    {
     "output_type": "execute_result",
     "data": {
      "text/plain": "array([[  615,     4],\n       [  136, 18629]], dtype=int64)"
     },
     "metadata": {},
     "execution_count": 17
    }
   ],
   "source": [
    "# Display the confusion matrix\n",
    "confusion_matrix(y_test, y_pred)"
   ]
  },
  {
   "cell_type": "code",
   "execution_count": 18,
   "metadata": {
    "tags": []
   },
   "outputs": [
    {
     "output_type": "stream",
     "name": "stdout",
     "text": "pre       rec       spe        f1       geo       iba       sup\n\n  high_risk       0.82      0.99      0.99      0.90      0.99      0.99       619\n   low_risk       1.00      0.99      0.99      1.00      0.99      0.99     18765\n\navg / total       0.99      0.99      0.99      0.99      0.99      0.99     19384\n\n"
    }
   ],
   "source": [
    "# Print the imbalanced classification report\n",
    "print(classification_report_imbalanced(y_test, y_pred))"
   ]
  },
  {
   "cell_type": "code",
   "execution_count": null,
   "metadata": {},
   "outputs": [],
   "source": []
  }
 ],
 "metadata": {
  "kernelspec": {
   "display_name": "Python 3.7.7 64-bit ('dev': conda)",
   "language": "python",
   "name": "python_defaultSpec_1598542476249"
  },
  "language_info": {
   "codemirror_mode": {
    "name": "ipython",
    "version": 3
   },
   "file_extension": ".py",
   "mimetype": "text/x-python",
   "name": "python",
   "nbconvert_exporter": "python",
   "pygments_lexer": "ipython3",
   "version": "3.7.7-final"
  }
 },
 "nbformat": 4,
 "nbformat_minor": 4
}